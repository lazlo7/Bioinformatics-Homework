{
 "cells": [
  {
   "attachments": {},
   "cell_type": "markdown",
   "metadata": {},
   "source": [
    "# Z-ДНК и G-квадруплексы\n",
    "  \n",
    "*(z-днк, казалось бы, причем тут украина...)*\n",
    "\n",
    "## Задание\n",
    "Идете на сайт UCSC genome browser,  Downloads -> Genome Data\n",
    "https://hgdownload.soe.ucsc.edu/downloads.html\n",
    "\n",
    "Выбрать любой организм КРОМЕ человека и мыши. Любой из вкладок Mammals, Other Vertebrates, Deuterostomes, Insects, Nematodes, Othergenomes. У организма достаточно взять какую-нибудь одну хромосому.\n",
    "\n",
    "Внести его в таблицу вместе с ФИО и группой\n",
    "https://docs.google.com/spreadsheets/d/1yDismD3oP7yKB-cVItI8SHdunFi-qB9w6tJutY72UD8/edit?usp=sharing\n",
    "\n",
    "Найти в геноме участки Z-ДНК (с помощью программы Z-Hunt) и квадруплексы (c помощью паттерна, см семинар)\n",
    "\n",
    "В отчете ответить на вопросы:\n",
    "1. Сколько участков Z-ДНК найдено в геноме?\n",
    "2. Сколько квадруплексов найдено в геноме?\n",
    "3. В какие участки генома (гены или межгеннное пространство или на пересечении) попадают Z-ДНК и квадруплексы. Аннотацию генома генами для выбранного организма скачать из TableBrowser -  Genes and Gene Prediction Track – GeneCode annotation tracks.\n",
    "4. Предоставить список генов, в промоторы которых попадает Z-ДНК. Промоторами считать участки от начала генов и upstream 1000 bp. При этом для генов на положительном и отрицательном стренде по-разному рассчитываются координаты промоторов. Для положительного стренда, если начало гена на координате 5000 bp, промоторный участок будет 4000-5000, а для отрицательного стренда 5000-6000. Имена вытаскиваются из предпоследней колонки таблицы.\n",
    "5. Предоставить список генов, в промоторы которых попадает квадруплексы.\n",
    "6. На 10 баллов – сделать Gene Enrichment Analysis – зайти на сайт stringDB https://string-db.org/. Нажать на Search. Выбрать слева Multiple Proteins - Найти нужный организм, в окно загрузить список генов и нажать Search. На вкладе Analysis будут результаты обогощения отобранных генов биологическими процессами. Сделать скриншот анализа. Выгрузить таблицу в Excel. "
   ]
  },
  {
   "attachments": {},
   "cell_type": "markdown",
   "metadata": {},
   "source": [
    "Была выбрана хромосома 1 (`chr1`) из генома организма `Takifugu rubripes` (`fugu5/fr3`) (см. https://hgdownload.soe.ucsc.edu/goldenPath/fr3/bigZips/)  \n",
    "Так как на сайте нет возможности скачать последовательности хромосом по отдельности, был скачан файл с полной геномной последовательностью в формате `2bit` (см. https://hgdownload.soe.ucsc.edu/goldenPath/fr3/bigZips/fr3.2bit).  \n",
    "Далее для извлечения последовательности нужной хромосомы в формате `fasta` использовалась программа `twoBitToFa`, предоставляемая `UCSC` (см. http://hgdownload.cse.ucsc.edu/admin/exe/linux.x86_64/):\n",
    "\n",
    "    ./twoBitToFa fr3.2bit fugu-chr1.fasta -seq=chr1\n",
    "\n",
    "Для нахождения участков `Z-ДНК` будем использовать программу `zhunt3` (см. `./zhunt3-alan.c`). Соберем программу и запустим с параметрами из примера:\n",
    "\n",
    "    gcc zhunt3-alan.c -lm -o zhunt3\n",
    "    ./zhunt3 12 8 12 fugu-chr1.fasta\n",
    "\n",
    "Получили файл `fugu-chr1.fasta.Z-SCORE`, содержащий `z-score` для участков из последовательности.  \n",
    "Найдем участки `Z-ДНК`, используя порог по `z-score`, равный 300."
   ]
  },
  {
   "cell_type": "code",
   "execution_count": 1,
   "metadata": {},
   "outputs": [],
   "source": [
    "\"\"\"\n",
    "pandas почему-то вылетает на такой таблице :(\n",
    "Поэтому вручную распарсим файл по-строчно. \n",
    "\"\"\"\n",
    "z_score_filepath = \"./internal/fugu-chr1.fasta.Z-SCORE\"\n",
    "z_score_threshold = 300\n",
    "z_regions = []\n",
    "\n",
    "with open(z_score_filepath, \"r\") as f:\n",
    "    # Пропускаем заголовок\n",
    "    f.readline()\n",
    "\n",
    "    while line := f.readline():\n",
    "        line = line.split()\n",
    "        z_score = float(line[5])\n",
    "        \n",
    "        if z_score >= z_score_threshold:\n",
    "            start = int(line[0])\n",
    "            end = int(line[1])\n",
    "            z_regions.append((start, end))"
   ]
  },
  {
   "attachments": {},
   "cell_type": "markdown",
   "metadata": {},
   "source": [
    "1\\. Сколько участков Z-ДНК найдено в геноме? "
   ]
  },
  {
   "cell_type": "code",
   "execution_count": 2,
   "metadata": {},
   "outputs": [
    {
     "name": "stdout",
     "output_type": "stream",
     "text": [
      "280979\n"
     ]
    }
   ],
   "source": [
    "print(len(z_regions))"
   ]
  },
  {
   "attachments": {},
   "cell_type": "markdown",
   "metadata": {},
   "source": [
    "2\\. Сколько квадруплексов найдено в геноме?"
   ]
  },
  {
   "cell_type": "code",
   "execution_count": 3,
   "metadata": {},
   "outputs": [],
   "source": [
    "import re \n",
    "from Bio import SeqIO"
   ]
  },
  {
   "cell_type": "code",
   "execution_count": 4,
   "metadata": {},
   "outputs": [],
   "source": [
    "sequence_filepath = \"./internal/fugu-chr1.fasta\"\n",
    "pattern_plus_strand = \"(?:G{3,}[ATGC]{1,7}){3,}G{3,}\"\n",
    "pattern_minus_strand = \"(?:C{3,}[ATGC]{1,7}){3,}C{3,}\"\n",
    "\n",
    "sequence = str(next(SeqIO.parse(sequence_filepath, \"fasta\")).seq)"
   ]
  },
  {
   "cell_type": "code",
   "execution_count": 5,
   "metadata": {},
   "outputs": [
    {
     "name": "stdout",
     "output_type": "stream",
     "text": [
      "Квадруплексов на плюс-стренде: 1407\n"
     ]
    }
   ],
   "source": [
    "PQS_plus = [(m.start(), m.end(), m.group(0)) for m in re.finditer(pattern_plus_strand, sequence, re.IGNORECASE)]\n",
    "print(f\"Квадруплексов на плюс-стренде: {len(PQS_plus)}\")"
   ]
  },
  {
   "cell_type": "code",
   "execution_count": 6,
   "metadata": {},
   "outputs": [
    {
     "name": "stdout",
     "output_type": "stream",
     "text": [
      "Квадруплексов на минус-стренде: 1398\n"
     ]
    }
   ],
   "source": [
    "PQS_minus = [(m.start(), m.end(), m.group(0)) for m in re.finditer(pattern_minus_strand, sequence, re.IGNORECASE)]\n",
    "print(f\"Квадруплексов на минус-стренде: {len(PQS_minus)}\")"
   ]
  },
  {
   "cell_type": "code",
   "execution_count": 7,
   "metadata": {},
   "outputs": [
    {
     "name": "stdout",
     "output_type": "stream",
     "text": [
      "Квадруплексов всего: 2805\n"
     ]
    }
   ],
   "source": [
    "print(f\"Квадруплексов всего: {len(PQS_plus) + len(PQS_minus)}\")"
   ]
  },
  {
   "attachments": {},
   "cell_type": "markdown",
   "metadata": {},
   "source": [
    "3\\. В какие участки генома (гены или межгенное пространство или на пересечении) попадают Z-ДНК и квадруплексы. Аннотацию генома генами для выбранного организма скачать из TableBrowser - Genes and Gene Prediction Track – GeneCode annotation tracks."
   ]
  },
  {
   "cell_type": "code",
   "execution_count": 8,
   "metadata": {},
   "outputs": [],
   "source": [
    "import pandas as pd"
   ]
  },
  {
   "cell_type": "code",
   "execution_count": 9,
   "metadata": {},
   "outputs": [
    {
     "data": {
      "text/html": [
       "<div>\n",
       "<style scoped>\n",
       "    .dataframe tbody tr th:only-of-type {\n",
       "        vertical-align: middle;\n",
       "    }\n",
       "\n",
       "    .dataframe tbody tr th {\n",
       "        vertical-align: top;\n",
       "    }\n",
       "\n",
       "    .dataframe thead th {\n",
       "        text-align: right;\n",
       "    }\n",
       "</style>\n",
       "<table border=\"1\" class=\"dataframe\">\n",
       "  <thead>\n",
       "    <tr style=\"text-align: right;\">\n",
       "      <th></th>\n",
       "      <th>#bin</th>\n",
       "      <th>name</th>\n",
       "      <th>chrom</th>\n",
       "      <th>strand</th>\n",
       "      <th>txStart</th>\n",
       "      <th>txEnd</th>\n",
       "      <th>cdsStart</th>\n",
       "      <th>cdsEnd</th>\n",
       "      <th>exonCount</th>\n",
       "      <th>exonStarts</th>\n",
       "      <th>exonEnds</th>\n",
       "      <th>score</th>\n",
       "      <th>name2</th>\n",
       "      <th>cdsStartStat</th>\n",
       "      <th>cdsEndStat</th>\n",
       "      <th>exonFrames</th>\n",
       "    </tr>\n",
       "  </thead>\n",
       "  <tbody>\n",
       "    <tr>\n",
       "      <th>0</th>\n",
       "      <td>585</td>\n",
       "      <td>XR_964528.1</td>\n",
       "      <td>chr1</td>\n",
       "      <td>+</td>\n",
       "      <td>26235</td>\n",
       "      <td>26835</td>\n",
       "      <td>26835</td>\n",
       "      <td>26835</td>\n",
       "      <td>3</td>\n",
       "      <td>26235,26480,26728,</td>\n",
       "      <td>26359,26651,26835,</td>\n",
       "      <td>0</td>\n",
       "      <td>LOC105416383</td>\n",
       "      <td>none</td>\n",
       "      <td>none</td>\n",
       "      <td>-1,-1,-1,</td>\n",
       "    </tr>\n",
       "    <tr>\n",
       "      <th>1</th>\n",
       "      <td>585</td>\n",
       "      <td>XR_964519.1</td>\n",
       "      <td>chr1</td>\n",
       "      <td>+</td>\n",
       "      <td>55374</td>\n",
       "      <td>57235</td>\n",
       "      <td>57235</td>\n",
       "      <td>57235</td>\n",
       "      <td>3</td>\n",
       "      <td>55374,56151,56944,</td>\n",
       "      <td>55484,56410,57235,</td>\n",
       "      <td>0</td>\n",
       "      <td>LOC105416374</td>\n",
       "      <td>none</td>\n",
       "      <td>none</td>\n",
       "      <td>-1,-1,-1,</td>\n",
       "    </tr>\n",
       "    <tr>\n",
       "      <th>2</th>\n",
       "      <td>73</td>\n",
       "      <td>XM_011603754.1</td>\n",
       "      <td>chr1</td>\n",
       "      <td>+</td>\n",
       "      <td>115173</td>\n",
       "      <td>255908</td>\n",
       "      <td>115176</td>\n",
       "      <td>255908</td>\n",
       "      <td>44</td>\n",
       "      <td>115173,218682,223433,224385,229620,229888,2300...</td>\n",
       "      <td>115237,218842,223540,224533,229754,230000,2302...</td>\n",
       "      <td>0</td>\n",
       "      <td>LOC101068579</td>\n",
       "      <td>cmpl</td>\n",
       "      <td>cmpl</td>\n",
       "      <td>0,1,2,1,2,1,2,1,1,1,0,1,2,2,1,1,2,1,0,1,1,1,0,...</td>\n",
       "    </tr>\n",
       "    <tr>\n",
       "      <th>3</th>\n",
       "      <td>587</td>\n",
       "      <td>XM_011603350.1</td>\n",
       "      <td>chr1</td>\n",
       "      <td>+</td>\n",
       "      <td>272430</td>\n",
       "      <td>274255</td>\n",
       "      <td>272603</td>\n",
       "      <td>273601</td>\n",
       "      <td>2</td>\n",
       "      <td>272430,272732,</td>\n",
       "      <td>272730,274255,</td>\n",
       "      <td>0</td>\n",
       "      <td>LOC101064527</td>\n",
       "      <td>cmpl</td>\n",
       "      <td>cmpl</td>\n",
       "      <td>0,1,</td>\n",
       "    </tr>\n",
       "    <tr>\n",
       "      <th>4</th>\n",
       "      <td>587</td>\n",
       "      <td>XM_003961015.1</td>\n",
       "      <td>chr1</td>\n",
       "      <td>+</td>\n",
       "      <td>285687</td>\n",
       "      <td>288576</td>\n",
       "      <td>285687</td>\n",
       "      <td>288576</td>\n",
       "      <td>7</td>\n",
       "      <td>285687,286669,286841,286999,287306,288114,288359,</td>\n",
       "      <td>286257,286753,286912,287143,287529,288269,288576,</td>\n",
       "      <td>0</td>\n",
       "      <td>tekt3</td>\n",
       "      <td>cmpl</td>\n",
       "      <td>cmpl</td>\n",
       "      <td>0,0,0,2,2,0,2,</td>\n",
       "    </tr>\n",
       "  </tbody>\n",
       "</table>\n",
       "</div>"
      ],
      "text/plain": [
       "   #bin            name chrom strand  txStart   txEnd  cdsStart  cdsEnd   \n",
       "0   585     XR_964528.1  chr1      +    26235   26835     26835   26835  \\\n",
       "1   585     XR_964519.1  chr1      +    55374   57235     57235   57235   \n",
       "2    73  XM_011603754.1  chr1      +   115173  255908    115176  255908   \n",
       "3   587  XM_011603350.1  chr1      +   272430  274255    272603  273601   \n",
       "4   587  XM_003961015.1  chr1      +   285687  288576    285687  288576   \n",
       "\n",
       "   exonCount                                         exonStarts   \n",
       "0          3                                 26235,26480,26728,  \\\n",
       "1          3                                 55374,56151,56944,   \n",
       "2         44  115173,218682,223433,224385,229620,229888,2300...   \n",
       "3          2                                     272430,272732,   \n",
       "4          7  285687,286669,286841,286999,287306,288114,288359,   \n",
       "\n",
       "                                            exonEnds  score         name2   \n",
       "0                                 26359,26651,26835,      0  LOC105416383  \\\n",
       "1                                 55484,56410,57235,      0  LOC105416374   \n",
       "2  115237,218842,223540,224533,229754,230000,2302...      0  LOC101068579   \n",
       "3                                     272730,274255,      0  LOC101064527   \n",
       "4  286257,286753,286912,287143,287529,288269,288576,      0         tekt3   \n",
       "\n",
       "  cdsStartStat cdsEndStat                                         exonFrames  \n",
       "0         none       none                                          -1,-1,-1,  \n",
       "1         none       none                                          -1,-1,-1,  \n",
       "2         cmpl       cmpl  0,1,2,1,2,1,2,1,1,1,0,1,2,2,1,1,2,1,0,1,1,1,0,...  \n",
       "3         cmpl       cmpl                                               0,1,  \n",
       "4         cmpl       cmpl                                     0,0,0,2,2,0,2,  "
      ]
     },
     "execution_count": 9,
     "metadata": {},
     "output_type": "execute_result"
    }
   ],
   "source": [
    "annotation_filepath = \"./internal/fugu-chr1-annotation.tsv\"\n",
    "\n",
    "df = pd.read_csv(annotation_filepath, sep='\\t')\n",
    "df.head()"
   ]
  },
  {
   "cell_type": "code",
   "execution_count": 10,
   "metadata": {},
   "outputs": [],
   "source": [
    "tx_regions = []\n",
    "for start, end, strand, name in zip(df[\"txStart\"], df[\"txEnd\"], df[\"strand\"], df[\"name2\"]):\n",
    "    start = int(start)\n",
    "    end = int(end)\n",
    "    elem = {\"start\": start, \"end\": end, \"strand\": strand, \"name\": name}\n",
    "    if elem not in tx_regions:\n",
    "        tx_regions.append(elem)"
   ]
  },
  {
   "cell_type": "code",
   "execution_count": 11,
   "metadata": {},
   "outputs": [],
   "source": [
    "def count_in_tx(regions: list[tuple[int, int]], strand: str = None) -> int: \n",
    "    count = 0\n",
    "\n",
    "    for start, end in regions:\n",
    "        for tx_region in tx_regions:\n",
    "            tx_start, tx_end, tx_strand = tx_region[\"start\"], tx_region[\"end\"], tx_region[\"strand\"]\n",
    "            if strand is not None and tx_strand != strand:\n",
    "                continue\n",
    "            if tx_start > start:\n",
    "                break\n",
    "            if end <= tx_end:\n",
    "                count += 1\n",
    "                break\n",
    "\n",
    "    return count"
   ]
  },
  {
   "cell_type": "code",
   "execution_count": 12,
   "metadata": {},
   "outputs": [
    {
     "name": "stdout",
     "output_type": "stream",
     "text": [
      "Z-ДНК, попадающие в гены: 152536\n",
      "Z-ДНК, попадающие в межгенное пространство: 128443\n"
     ]
    }
   ],
   "source": [
    "z_regions_in_tx_count = count_in_tx(z_regions)\n",
    "z_regions_out_of_tx_count = len(z_regions) - z_regions_in_tx_count\n",
    "\n",
    "print(f\"Z-ДНК, попадающие в гены: {z_regions_in_tx_count}\")\n",
    "print(f\"Z-ДНК, попадающие в межгенное пространство: {z_regions_out_of_tx_count}\")"
   ]
  },
  {
   "attachments": {},
   "cell_type": "markdown",
   "metadata": {},
   "source": [
    "Как видно, Z-ДНК попадает как в гены, так и в межгенное пространство"
   ]
  },
  {
   "cell_type": "code",
   "execution_count": 13,
   "metadata": {},
   "outputs": [],
   "source": [
    "pqs_plus_regions = list(map(lambda pqs: (pqs[0], pqs[1]), PQS_plus))\n",
    "pqs_minus_regions = list(map(lambda pqs: (pqs[0], pqs[1]), PQS_minus))"
   ]
  },
  {
   "cell_type": "code",
   "execution_count": 14,
   "metadata": {},
   "outputs": [
    {
     "name": "stdout",
     "output_type": "stream",
     "text": [
      "PQS на плюс-стренде, попадающие в гены: 375\n",
      "PQS на плюс-стренде, попадающие в межгенное пространство: 1032\n"
     ]
    }
   ],
   "source": [
    "pqs_plus_regions_in_tx_count = count_in_tx(pqs_plus_regions, strand = \"+\")\n",
    "pqs_plus_regions_out_of_tx_count = len(PQS_plus) - pqs_plus_regions_in_tx_count\n",
    "\n",
    "print(f\"PQS на плюс-стренде, попадающие в гены: {pqs_plus_regions_in_tx_count}\")\n",
    "print(f\"PQS на плюс-стренде, попадающие в межгенное пространство: {pqs_plus_regions_out_of_tx_count}\")"
   ]
  },
  {
   "cell_type": "code",
   "execution_count": 15,
   "metadata": {},
   "outputs": [
    {
     "name": "stdout",
     "output_type": "stream",
     "text": [
      "PQS на минус-стренде, попадающие в гены: 290\n",
      "PQS на минус-стренде, попадающие в межгенное пространство: 1108\n"
     ]
    }
   ],
   "source": [
    "pqs_minus_regions_in_tx_count = count_in_tx(pqs_minus_regions, strand = \"-\")\n",
    "pqs_minus_regions_out_of_tx_count = len(PQS_minus) - pqs_minus_regions_in_tx_count\n",
    "\n",
    "print(f\"PQS на минус-стренде, попадающие в гены: {pqs_minus_regions_in_tx_count}\")\n",
    "print(f\"PQS на минус-стренде, попадающие в межгенное пространство: {pqs_minus_regions_out_of_tx_count}\")"
   ]
  },
  {
   "attachments": {},
   "cell_type": "markdown",
   "metadata": {},
   "source": [
    "PQS попадают как в гены, так и в межгенное пространство"
   ]
  },
  {
   "attachments": {},
   "cell_type": "markdown",
   "metadata": {},
   "source": [
    "4\\. Предоставить список генов, в промоторы которых попадает Z-ДНК.  \n",
    "Промоторами считать участки от начала генов и upstream 1000 bp. При этом для генов на положительном и отрицательном стренде по-разному рассчитываются координаты промоторов. Для положительного стренда, если начало гена на координате 5000 bp, промоторный участок будет 4000-5000, а для отрицательного стренда 5000-6000."
   ]
  },
  {
   "cell_type": "code",
   "execution_count": 16,
   "metadata": {},
   "outputs": [],
   "source": [
    "upstream_bp = 1000\n",
    "\n",
    "def get_promoted_genes(regions: list[tuple[int, int]], strand: str = None) -> list[str]:\n",
    "    result = []\n",
    "\n",
    "    for start, end in regions:\n",
    "        skip_plus_strand = False\n",
    "        skip_minus_strand = False\n",
    "\n",
    "        for tx_region in tx_regions:\n",
    "            tx_start, tx_strand, tx_name = tx_region[\"start\"], tx_region[\"strand\"], tx_region[\"name\"]\n",
    "\n",
    "            if strand is not None and tx_strand != strand:\n",
    "                continue\n",
    "\n",
    "            tx_promoted_start = max(0, tx_start - upstream_bp) if tx_strand == \"+\" else tx_start\n",
    "            tx_promoted_end = tx_start if tx_strand == \"+\" else tx_start + upstream_bp \n",
    "\n",
    "            if tx_promoted_start > start:\n",
    "                if tx_strand == \"+\":\n",
    "                    skip_plus_strand = True\n",
    "                else:\n",
    "                    skip_minus_strand = True\n",
    "                \n",
    "                if skip_plus_strand and skip_minus_strand:\n",
    "                    break\n",
    "\n",
    "            if end <= tx_promoted_end:\n",
    "                if tx_name not in result:\n",
    "                    result.append(tx_name)\n",
    "                break\n",
    "\n",
    "    return result"
   ]
  },
  {
   "cell_type": "code",
   "execution_count": 17,
   "metadata": {},
   "outputs": [],
   "source": [
    "z_promoted_genes = sorted(get_promoted_genes(z_regions))"
   ]
  },
  {
   "cell_type": "code",
   "execution_count": 18,
   "metadata": {},
   "outputs": [],
   "source": [
    "z_promoted_filepath = \"./files/z-promoted.txt\"\n",
    "\n",
    "with open(z_promoted_filepath, \"w\") as f:\n",
    "    for gene in z_promoted_genes:\n",
    "        f.write(gene + '\\n')"
   ]
  },
  {
   "attachments": {},
   "cell_type": "markdown",
   "metadata": {},
   "source": [
    "Список генов, в промоторы которых попадает Z-ДНК, представлен в `./files/z-promoted.txt`"
   ]
  },
  {
   "attachments": {},
   "cell_type": "markdown",
   "metadata": {},
   "source": [
    "5\\. Предоставить список генов, в промоторы которых попадают квадруплексы."
   ]
  },
  {
   "cell_type": "code",
   "execution_count": 19,
   "metadata": {},
   "outputs": [],
   "source": [
    "pqs_plus_promoted_genes = sorted(get_promoted_genes(pqs_plus_regions, strand = \"+\"))"
   ]
  },
  {
   "cell_type": "code",
   "execution_count": 20,
   "metadata": {},
   "outputs": [],
   "source": [
    "pqs_plus_promoted_filepath = \"./files/pqs-plus-promoted.txt\"\n",
    "\n",
    "with open(pqs_plus_promoted_filepath, \"w\") as f:\n",
    "    for gene in pqs_plus_promoted_genes:\n",
    "        f.write(gene + '\\n')"
   ]
  },
  {
   "cell_type": "code",
   "execution_count": 21,
   "metadata": {},
   "outputs": [],
   "source": [
    "pqs_minus_promoted_genes = sorted(get_promoted_genes(pqs_minus_regions, strand = \"-\"))"
   ]
  },
  {
   "cell_type": "code",
   "execution_count": 22,
   "metadata": {},
   "outputs": [],
   "source": [
    "pqs_minus_promoted_filepath = \"./files/pqs-minus-promoted.txt\"\n",
    "\n",
    "with open(pqs_minus_promoted_filepath, \"w\") as f:\n",
    "    for gene in pqs_minus_promoted_genes:\n",
    "        f.write(gene + '\\n')"
   ]
  },
  {
   "cell_type": "code",
   "execution_count": 23,
   "metadata": {},
   "outputs": [],
   "source": [
    "pqs_united_promoted_genes = pqs_plus_promoted_genes + pqs_minus_promoted_genes\n",
    "pqs_united_promoted_genes.sort()"
   ]
  },
  {
   "cell_type": "code",
   "execution_count": 24,
   "metadata": {},
   "outputs": [],
   "source": [
    "pqs_united_promoted_filepath = \"./files/pqs-united-promoted.txt\"\n",
    "\n",
    "with open(pqs_united_promoted_filepath, \"w\") as f:\n",
    "    for gene in pqs_united_promoted_genes:\n",
    "        f.write(gene + '\\n')"
   ]
  },
  {
   "attachments": {},
   "cell_type": "markdown",
   "metadata": {},
   "source": [
    "Список генов на плюс-стренде, в промоторы которых попадают PQS на плюс-стренде, представлен в `./files/pqs-plus-promoted.txt`  \n",
    "Список генов на минус-стренде, в промоторы которых попадают PQS на минус-стренде, представлен в `./files/pqs-minus-promoted.txt`  \n",
    "Общий список генов, в промоторы которых попадают квадруплексы, представлен в `./files/pqs-united-promoted.txt`"
   ]
  },
  {
   "attachments": {},
   "cell_type": "markdown",
   "metadata": {},
   "source": [
    "6\\. На 10 баллов – сделать Gene Enrichment Analysis – зайти на сайт stringDB https://string-db.org/. Нажать на Search. Выбрать слева Multiple Proteins - Найти нужный организм, в окно загрузить список генов и нажать Search. На вкладе Analysis будут результаты обогащения отобранных генов биологическими процессами. Сделать скриншот анализа. Выгрузить таблицу в Excel. "
   ]
  },
  {
   "attachments": {},
   "cell_type": "markdown",
   "metadata": {},
   "source": [
    "### Общий список генов, в промоторы которых попадают квадруплексы\n",
    "![PQS GESA Analysis](./pics/pqs-gesa-analysis.png)  \n",
    "см. `./files/pqs-gesa-analysis.tsv`"
   ]
  },
  {
   "attachments": {},
   "cell_type": "markdown",
   "metadata": {},
   "source": [
    "### Список генов, в промоторы которых попадает Z-ДНК\n",
    "![Z-DNA GESA Analysis](./pics/z-gesa-analysis.png)  \n",
    "см. `./files/z-gesa-analysis.tsv`"
   ]
  }
 ],
 "metadata": {
  "kernelspec": {
   "display_name": "Python 3",
   "language": "python",
   "name": "python3"
  },
  "language_info": {
   "codemirror_mode": {
    "name": "ipython",
    "version": 3
   },
   "file_extension": ".py",
   "mimetype": "text/x-python",
   "name": "python",
   "nbconvert_exporter": "python",
   "pygments_lexer": "ipython3",
   "version": "3.11.3"
  },
  "orig_nbformat": 4
 },
 "nbformat": 4,
 "nbformat_minor": 2
}
