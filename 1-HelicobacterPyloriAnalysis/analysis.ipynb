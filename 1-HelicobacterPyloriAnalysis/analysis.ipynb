{
 "cells": [
  {
   "cell_type": "markdown",
   "metadata": {},
   "source": [
    "# Helicobacter pylori \n",
    "Используется штамм B-38.\n",
    "\n",
    "Для выбранного генома бактерии скачать файлы разметки генома генами – feature table и сам полный геном (.fna)"
   ]
  },
  {
   "cell_type": "markdown",
   "metadata": {},
   "source": [
    "Скачаем feature table и геном бактерии в формате fasta."
   ]
  },
  {
   "cell_type": "code",
   "execution_count": 1,
   "metadata": {
    "vscode": {
     "languageId": "python"
    }
   },
   "outputs": [],
   "source": [
    "import os.path\n",
    "import urllib.request"
   ]
  },
  {
   "cell_type": "code",
   "execution_count": 2,
   "metadata": {
    "vscode": {
     "languageId": "python"
    }
   },
   "outputs": [],
   "source": [
    "DATA_DIR = \"./data\"\n",
    "\n",
    "if not os.path.isdir(DATA_DIR):\n",
    "    os.mkdir(DATA_DIR)\n",
    "\n",
    "def download_file_if_needed(url: str, file_name: str) -> None:\n",
    "    file_path = os.path.join(DATA_DIR, file_name)\n",
    "    if not os.path.isfile(file_path):\n",
    "        try:\n",
    "            urllib.request.urlretrieve(url, file_path)\n",
    "        except e:\n",
    "            print(f\"Unable to download file from {url}\")\n",
    "            return\n",
    "        if not os.path.isfile(file_path):\n",
    "            print(f\"Unable to save downloaded file at {file_path}\")"
   ]
  },
  {
   "cell_type": "code",
   "execution_count": 3,
   "metadata": {
    "vscode": {
     "languageId": "python"
    }
   },
   "outputs": [],
   "source": [
    "# fasta файл с геномом\n",
    "download_file_if_needed(\"https://ftp.ncbi.nlm.nih.gov/genomes/all/GCF/000/091/345/GCF_000091345.1_ASM9134v1/GCF_000091345.1_ASM9134v1_genomic.fna.gz\", \"genome.fna.gz\")\n",
    "# feature table\n",
    "download_file_if_needed(\"https://ftp.ncbi.nlm.nih.gov/genomes/all/GCF/000/091/345/GCF_000091345.1_ASM9134v1/GCF_000091345.1_ASM9134v1_feature_table.txt.gz\", \"feature_table.txt.gz\")"
   ]
  },
  {
   "cell_type": "markdown",
   "metadata": {},
   "source": [
    "Разархивируем скачанные файлы в формате gz."
   ]
  },
  {
   "cell_type": "code",
   "execution_count": 4,
   "metadata": {
    "vscode": {
     "languageId": "python"
    }
   },
   "outputs": [],
   "source": [
    "import gzip\n",
    "import shutil"
   ]
  },
  {
   "cell_type": "code",
   "execution_count": 5,
   "metadata": {
    "vscode": {
     "languageId": "python"
    }
   },
   "outputs": [],
   "source": [
    "def unzip_data_if_needed(file_name: str) -> str:\n",
    "    file_path = os.path.join(DATA_DIR, file_name)\n",
    "    out_file_name = file_name[:file_name.find(\".gz\")]\n",
    "    out_file_path = os.path.join(DATA_DIR, out_file_name)\n",
    "\n",
    "    if os.path.isfile(out_file_path):\n",
    "        return out_file_path\n",
    "\n",
    "    with gzip.open(file_path, \"rb\") as file_input:\n",
    "        with open(out_file_path, \"wb\") as file_output:\n",
    "            shutil.copyfileobj(file_input, file_output)\n",
    "\n",
    "    return out_file_path"
   ]
  },
  {
   "cell_type": "code",
   "execution_count": 6,
   "metadata": {
    "vscode": {
     "languageId": "python"
    }
   },
   "outputs": [],
   "source": [
    "# Разархивируем геном\n",
    "GENOME_FILE_PATH = unzip_data_if_needed(\"genome.fna.gz\")\n",
    "# Разархивируем feature table\n",
    "FEATURE_TABLE_FILE_PATH = unzip_data_if_needed(\"feature_table.txt.gz\")"
   ]
  },
  {
   "cell_type": "markdown",
   "metadata": {},
   "source": [
    "Для обработки genome.fna будем использовать библиотеку biopython, в частности её модуль SeqIO.  \n",
    "Установим biopython через pip, если её еще у нас нет."
   ]
  },
  {
   "cell_type": "code",
   "execution_count": 7,
   "metadata": {
    "vscode": {
     "languageId": "python"
    }
   },
   "outputs": [
    {
     "name": "stdout",
     "output_type": "stream",
     "text": [
      "Requirement already satisfied: biopython in /home/requef/.local/lib/python3.8/site-packages (1.79)\n",
      "Requirement already satisfied: numpy in /home/requef/.local/lib/python3.8/site-packages (from biopython) (1.23.3)\n"
     ]
    }
   ],
   "source": [
    "!pip3 install biopython"
   ]
  },
  {
   "cell_type": "code",
   "execution_count": 8,
   "metadata": {
    "vscode": {
     "languageId": "python"
    }
   },
   "outputs": [],
   "source": [
    "from Bio import SeqIO"
   ]
  },
  {
   "cell_type": "code",
   "execution_count": 9,
   "metadata": {
    "vscode": {
     "languageId": "python"
    }
   },
   "outputs": [],
   "source": [
    "# т. к. у нас только одна последовательность в genome.fna, то сразу берём её -> list(...)[0]\n",
    "genome_seq = list(SeqIO.parse(GENOME_FILE_PATH, \"fasta\"))[0]"
   ]
  },
  {
   "cell_type": "markdown",
   "metadata": {},
   "source": [
    "*Какова длина генома?*"
   ]
  },
  {
   "cell_type": "code",
   "execution_count": 10,
   "metadata": {
    "vscode": {
     "languageId": "python"
    }
   },
   "outputs": [
    {
     "name": "stdout",
     "output_type": "stream",
     "text": [
      "Длина генома: 1576758\n"
     ]
    }
   ],
   "source": [
    "print(f\"Длина генома: {len(genome_seq.seq)}\")"
   ]
  },
  {
   "cell_type": "markdown",
   "metadata": {},
   "source": [
    "Для обработки feature_table.txt будем использовать библиотеку pandas"
   ]
  },
  {
   "cell_type": "code",
   "execution_count": 11,
   "metadata": {
    "vscode": {
     "languageId": "python"
    }
   },
   "outputs": [
    {
     "name": "stdout",
     "output_type": "stream",
     "text": [
      "Requirement already satisfied: pandas in /home/requef/.local/lib/python3.8/site-packages (1.5.0)\n",
      "Requirement already satisfied: pytz>=2020.1 in /home/requef/.local/lib/python3.8/site-packages (from pandas) (2022.4)\n",
      "Requirement already satisfied: python-dateutil>=2.8.1 in /home/requef/.local/lib/python3.8/site-packages (from pandas) (2.8.2)\n",
      "Requirement already satisfied: numpy>=1.20.3; python_version < \"3.10\" in /home/requef/.local/lib/python3.8/site-packages (from pandas) (1.23.3)\n",
      "Requirement already satisfied: six>=1.5 in /usr/lib/python3/dist-packages (from python-dateutil>=2.8.1->pandas) (1.14.0)\n"
     ]
    }
   ],
   "source": [
    "!pip3 install pandas"
   ]
  },
  {
   "cell_type": "code",
   "execution_count": 12,
   "metadata": {
    "vscode": {
     "languageId": "python"
    }
   },
   "outputs": [],
   "source": [
    "import pandas as pd\n",
    "import numpy as np"
   ]
  },
  {
   "cell_type": "code",
   "execution_count": 13,
   "metadata": {
    "vscode": {
     "languageId": "python"
    }
   },
   "outputs": [],
   "source": [
    "ft = pd.read_table(FEATURE_TABLE_FILE_PATH)"
   ]
  },
  {
   "cell_type": "markdown",
   "metadata": {},
   "source": [
    "*Сколько генов, кодирующих белки?*"
   ]
  },
  {
   "cell_type": "code",
   "execution_count": 14,
   "metadata": {
    "vscode": {
     "languageId": "python"
    }
   },
   "outputs": [
    {
     "data": {
      "text/plain": [
       "1406"
      ]
     },
     "execution_count": 14,
     "metadata": {},
     "output_type": "execute_result"
    }
   ],
   "source": [
    "(ft[\"class\"] == \"protein_coding\").sum()"
   ]
  },
  {
   "cell_type": "markdown",
   "metadata": {},
   "source": [
    "*Сколько рнк-генов?*"
   ]
  },
  {
   "cell_type": "code",
   "execution_count": 15,
   "metadata": {
    "vscode": {
     "languageId": "python"
    }
   },
   "outputs": [
    {
     "name": "stdout",
     "output_type": "stream",
     "text": [
      "classes с feature = 'gene': ['protein_coding' 'tRNA' 'SRP_RNA' 'pseudogene' 'tmRNA' 'RNase_P_RNA'\n",
      " 'rRNA']\n",
      "Рнк-генов: 45\n"
     ]
    }
   ],
   "source": [
    "genes_ft = ft[ft[\"# feature\"] == \"gene\"]\n",
    "gene_classes = pd.unique(genes_ft[\"class\"])\n",
    "print(f\"classes с feature = 'gene': {gene_classes}\")\n",
    "\n",
    "RNA_classes = [gene_class for gene_class in gene_classes if \"RNA\" in gene_class]\n",
    "count = sum([(genes_ft[\"class\"] == RNA_class).sum() for RNA_class in RNA_classes]) \n",
    "print(f\"Рнк-генов: {count}\")"
   ]
  },
  {
   "cell_type": "markdown",
   "metadata": {},
   "source": [
    "*Сколько транскрипционных факторов?*"
   ]
  },
  {
   "cell_type": "code",
   "execution_count": 16,
   "metadata": {
    "vscode": {
     "languageId": "python"
    }
   },
   "outputs": [
    {
     "name": "stdout",
     "output_type": "stream",
     "text": [
      "Транскрипционных регуляторов:\n",
      "6\n",
      "Транскрипционных факторов:\n",
      "3\n"
     ]
    }
   ],
   "source": [
    "print(\"Транскрипционных регуляторов:\")\n",
    "!grep \"transcriptional regulator\" {FEATURE_TABLE_FILE_PATH} | wc -l\n",
    "\n",
    "print(\"Транскрипционных факторов:\")\n",
    "!grep \"transcription factor\" {FEATURE_TABLE_FILE_PATH} | wc -l"
   ]
  },
  {
   "cell_type": "markdown",
   "metadata": {},
   "source": [
    "*Сколько транспортных белков (ABC transporters)?*"
   ]
  },
  {
   "cell_type": "code",
   "execution_count": 17,
   "metadata": {
    "vscode": {
     "languageId": "python"
    }
   },
   "outputs": [
    {
     "name": "stdout",
     "output_type": "stream",
     "text": [
      "35\n"
     ]
    }
   ],
   "source": [
    "!grep \"ABC transporter\" {FEATURE_TABLE_FILE_PATH} | wc -l"
   ]
  },
  {
   "cell_type": "markdown",
   "metadata": {},
   "source": [
    "*Сколько tRNA?*"
   ]
  },
  {
   "cell_type": "code",
   "execution_count": 18,
   "metadata": {
    "vscode": {
     "languageId": "python"
    }
   },
   "outputs": [
    {
     "name": "stdout",
     "output_type": "stream",
     "text": [
      "36\n"
     ]
    }
   ],
   "source": [
    "print((ft[\"# feature\"] == \"tRNA\").sum())"
   ]
  },
  {
   "cell_type": "markdown",
   "metadata": {},
   "source": [
    "*Сколько закодировано субъединиц АTP-synthase?*"
   ]
  },
  {
   "cell_type": "code",
   "execution_count": 19,
   "metadata": {
    "vscode": {
     "languageId": "python"
    }
   },
   "outputs": [
    {
     "name": "stdout",
     "output_type": "stream",
     "text": [
      "9\n"
     ]
    }
   ],
   "source": [
    "!grep \"ATP synthase\" {FEATURE_TABLE_FILE_PATH} | wc -l"
   ]
  },
  {
   "cell_type": "markdown",
   "metadata": {},
   "source": [
    "*Сколько генов закодировано на положительном, а сколько на отрицательном стренде?*"
   ]
  },
  {
   "cell_type": "code",
   "execution_count": 20,
   "metadata": {
    "vscode": {
     "languageId": "python"
    }
   },
   "outputs": [
    {
     "name": "stdout",
     "output_type": "stream",
     "text": [
      "695 820\n"
     ]
    }
   ],
   "source": [
    "print((genes_ft[\"strand\"] == \"+\").sum(), (genes_ft[\"strand\"] == \"-\").sum())"
   ]
  },
  {
   "cell_type": "markdown",
   "metadata": {},
   "source": [
    "# Ген человека ARID1B"
   ]
  },
  {
   "cell_type": "markdown",
   "metadata": {},
   "source": [
    "*В геномном браузере UCSC отобразить все изоформы гена, а также SNPs (Common dbSNP(155) и ClinVar dbSNP(155)), участки консервативности среди позвоночных и транспозоны. Сохранить скриншот в виде графического файла.*\n",
    "\n",
    "\n",
    "![ARID1B: Изоформы, SNPs, участки консервативности позвоночных, транспозоны](pics/arid1b.png)"
   ]
  },
  {
   "cell_type": "markdown",
   "metadata": {},
   "source": [
    "*Отобрать в табличном виде и сохранить в текстовый файл все изоформы генов, попавших в заданный участок*\n",
    "\n",
    "см. data/arid1b-isoforms.txt"
   ]
  },
  {
   "cell_type": "markdown",
   "metadata": {},
   "source": [
    "*Отобрать координаты только экзонов и только интронов для заданного участка.*\n",
    "\n",
    "см. data/arid1b-exons-only.tsv и data/arid1b-introns-only.tsv"
   ]
  },
  {
   "cell_type": "markdown",
   "metadata": {},
   "source": [
    "*Ответить письменно, в какие участки гена попадают clinically relevant SNPs.*\n",
    "\n",
    "На снимке сверху можно увидеть, что clinically relevant SNPs (трек ClinVar dbSNP(155) -> красный цвет) попадает только в экзоны гена."
   ]
  },
  {
   "cell_type": "markdown",
   "metadata": {},
   "source": [
    "*Ответить письменно, в какие участки гена попадают транспозоны.*\n",
    "\n",
    "В свою очередь транспозоны попадают как в экзоны, так и в интроны гена."
   ]
  }
 ],
 "metadata": {
  "kernelspec": {
   "display_name": "Python 3 (ipykernel)",
   "language": "python",
   "name": "python3"
  },
  "orig_nbformat": 4,
  "vscode": {
   "interpreter": {
    "hash": "e7370f93d1d0cde622a1f8e1c04877d8463912d04d973331ad4851f04de6915a"
   }
  }
 },
 "nbformat": 4,
 "nbformat_minor": 2
}
